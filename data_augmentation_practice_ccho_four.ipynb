{
  "cells": [
    {
      "cell_type": "code",
      "execution_count": 4,
      "metadata": {},
      "outputs": [
        {
          "name": "stdout",
          "output_type": "stream",
          "text": [
            "WARNING: pip is being invoked by an old script wrapper. This will fail in a future version of pip.\n",
            "Please see https://github.com/pypa/pip/issues/5599 for advice on fixing the underlying issue.\n",
            "To avoid this problem you can invoke Python with '-m pip' instead of running pip directly.\n",
            "Defaulting to user installation because normal site-packages is not writeable\n",
            "Collecting torch\n",
            "  Using cached torch-2.0.1-cp38-none-macosx_10_9_x86_64.whl (143.1 MB)\n",
            "Collecting torchvision\n",
            "  Using cached torchvision-0.15.2-cp38-cp38-macosx_10_9_x86_64.whl (1.5 MB)\n",
            "Collecting matplotlib\n",
            "  Using cached matplotlib-3.7.2-cp38-cp38-macosx_10_12_x86_64.whl (7.4 MB)\n",
            "Requirement already satisfied: filelock in /Users/jinheo/Library/Python/3.8/lib/python/site-packages (from torch) (3.12.2)\n",
            "Requirement already satisfied: typing-extensions in /Users/jinheo/Library/Python/3.8/lib/python/site-packages (from torch) (4.7.1)\n",
            "Requirement already satisfied: sympy in /Users/jinheo/Library/Python/3.8/lib/python/site-packages (from torch) (1.12)\n",
            "Requirement already satisfied: networkx in /Users/jinheo/Library/Python/3.8/lib/python/site-packages (from torch) (3.1)\n",
            "Requirement already satisfied: jinja2 in /Users/jinheo/Library/Python/3.8/lib/python/site-packages (from torch) (3.1.2)\n",
            "Requirement already satisfied: numpy in /Users/jinheo/Library/Python/3.8/lib/python/site-packages (from torchvision) (1.24.4)\n",
            "Requirement already satisfied: requests in /Users/jinheo/Library/Python/3.8/lib/python/site-packages (from torchvision) (2.28.2)\n",
            "Requirement already satisfied: pillow!=8.3.*,>=5.3.0 in /Users/jinheo/Library/Python/3.8/lib/python/site-packages (from torchvision) (10.0.0)\n",
            "Requirement already satisfied: contourpy>=1.0.1 in /Users/jinheo/Library/Python/3.8/lib/python/site-packages (from matplotlib) (1.1.0)\n",
            "Requirement already satisfied: cycler>=0.10 in /Users/jinheo/Library/Python/3.8/lib/python/site-packages (from matplotlib) (0.11.0)\n",
            "Requirement already satisfied: fonttools>=4.22.0 in /Users/jinheo/Library/Python/3.8/lib/python/site-packages (from matplotlib) (4.41.0)\n",
            "Requirement already satisfied: kiwisolver>=1.0.1 in /Users/jinheo/Library/Python/3.8/lib/python/site-packages (from matplotlib) (1.4.4)\n",
            "Requirement already satisfied: packaging>=20.0 in /Users/jinheo/Library/Python/3.8/lib/python/site-packages (from matplotlib) (23.1)\n",
            "Requirement already satisfied: pyparsing<3.1,>=2.3.1 in /Users/jinheo/Library/Python/3.8/lib/python/site-packages (from matplotlib) (3.0.9)\n",
            "Requirement already satisfied: python-dateutil>=2.7 in /Users/jinheo/Library/Python/3.8/lib/python/site-packages (from matplotlib) (2.8.2)\n",
            "Requirement already satisfied: importlib-resources>=3.2.0 in /Users/jinheo/Library/Python/3.8/lib/python/site-packages (from matplotlib) (6.0.0)\n",
            "Requirement already satisfied: zipp>=3.1.0 in /Users/jinheo/Library/Python/3.8/lib/python/site-packages (from importlib-resources>=3.2.0->matplotlib) (3.15.0)\n",
            "Requirement already satisfied: six>=1.5 in /Applications/Xcode.app/Contents/Developer/Library/Frameworks/Python3.framework/Versions/3.8/lib/python3.8/site-packages (from python-dateutil>=2.7->matplotlib) (1.15.0)\n",
            "Requirement already satisfied: MarkupSafe>=2.0 in /Users/jinheo/Library/Python/3.8/lib/python/site-packages (from jinja2->torch) (2.1.2)\n",
            "Requirement already satisfied: charset-normalizer<4,>=2 in /Users/jinheo/Library/Python/3.8/lib/python/site-packages (from requests->torchvision) (3.1.0)\n",
            "Requirement already satisfied: idna<4,>=2.5 in /Users/jinheo/Library/Python/3.8/lib/python/site-packages (from requests->torchvision) (3.4)\n",
            "Requirement already satisfied: urllib3<1.27,>=1.21.1 in /Users/jinheo/Library/Python/3.8/lib/python/site-packages (from requests->torchvision) (1.26.15)\n",
            "Requirement already satisfied: certifi>=2017.4.17 in /Users/jinheo/Library/Python/3.8/lib/python/site-packages (from requests->torchvision) (2022.12.7)\n",
            "Requirement already satisfied: mpmath>=0.19 in /Users/jinheo/Library/Python/3.8/lib/python/site-packages (from sympy->torch) (1.3.0)\n",
            "Installing collected packages: torch, matplotlib, torchvision\n",
            "Successfully installed matplotlib-3.7.2 torch-2.0.1 torchvision-0.15.2\n",
            "\n",
            "\u001b[1m[\u001b[0m\u001b[34;49mnotice\u001b[0m\u001b[1;39;49m]\u001b[0m\u001b[39;49m A new release of pip is available: \u001b[0m\u001b[31;49m23.1.2\u001b[0m\u001b[39;49m -> \u001b[0m\u001b[32;49m23.2\u001b[0m\n",
            "\u001b[1m[\u001b[0m\u001b[34;49mnotice\u001b[0m\u001b[1;39;49m]\u001b[0m\u001b[39;49m To update, run: \u001b[0m\u001b[32;49m/Applications/Xcode.app/Contents/Developer/usr/bin/python3 -m pip install --upgrade pip\u001b[0m\n"
          ]
        }
      ],
      "source": [
        "!pip3 install torch torchvision matplotlib"
      ]
    },
    {
      "cell_type": "code",
      "execution_count": 5,
      "metadata": {
        "id": "gv_VkcORxOls"
      },
      "outputs": [],
      "source": [
        "import cv2\n",
        "import torch\n",
        "import matplotlib.pyplot as plt\n",
        "from PIL import Image, ImageDraw\n",
        "import numpy as np"
      ]
    },
    {
      "cell_type": "code",
      "execution_count": 7,
      "metadata": {
        "id": "ilhhEHRT_CXd"
      },
      "outputs": [],
      "source": [
        "def rotate_coordinates(coords, angle, center):\n",
        "    # 중심 좌표를 기준으로 회전 각도로 변환\n",
        "    angle_rad = np.radians(angle)\n",
        "    cos_theta = np.cos(angle_rad)\n",
        "    sin_theta = np.sin(angle_rad)\n",
        "\n",
        "    # 회전 변환 행렬 계산\n",
        "    rotation_matrix = np.array([[cos_theta, -sin_theta],\n",
        "                                [sin_theta, cos_theta]])\n",
        "\n",
        "    # 중심 좌표를 원점으로 변환\n",
        "    centered_coords = coords - center\n",
        "\n",
        "    # 회전 변환 적용\n",
        "    rotated_coords = np.dot(centered_coords, rotation_matrix.T)\n",
        "\n",
        "    # 원점 좌표로 복원\n",
        "    restored_coords = rotated_coords + center\n",
        "\n",
        "    return restored_coords"
      ]
    },
    {
      "attachments": {},
      "cell_type": "markdown",
      "metadata": {
        "id": "YTqAHeWcEffL"
      },
      "source": [
        "하나의 bounding box로 테스트"
      ]
    },
    {
      "cell_type": "code",
      "execution_count": 8,
      "metadata": {
        "id": "X5JmRtwK8Oq0"
      },
      "outputs": [],
      "source": [
        "def draw_rotated_bbox(image, coords, angle, color=(255, 0, 0), width=2):\n",
        "    # PIL 이미지로 변환\n",
        "    pil_image = Image.fromarray(image)\n",
        "\n",
        "    # 이미지에 그리기 위한 Draw 객체 생성\n",
        "    draw = ImageDraw.Draw(pil_image)\n",
        "\n",
        "    # 좌표 회전\n",
        "    #rotated_coords = rotate_coordinates(coords, -angle, center=(image.shape[1] // 2, image.shape[0] // 2))\n",
        "    # 좌표 순회하며 선 그리기\n",
        "    for i in range(0, 4):\n",
        "        pt1 = tuple(coords[i])\n",
        "        pt2 = tuple(coords[(i + 1) % 4])\n",
        "        #if (pt1[0] < 0 or pt1[0] > 1023 or pt1[0] < 0 or pt1[1] > 1023):\n",
        "        #  print(pt1)\n",
        "        #  continue\n",
        "        #elif (pt2[0] < 0 or pt2[0] > 1023 or pt2[0] < 0 or pt2[1] > 1023):\n",
        "        #  print(pt2)\n",
        "        #  continue\n",
        "        draw.line([pt1, pt2], fill=color, width=width)\n",
        "\n",
        "    # PIL 이미지를 다시 NumPy 배열로 변환\n",
        "    result_image = np.array(pil_image)\n",
        "\n",
        "    return result_image"
      ]
    },
    {
      "cell_type": "code",
      "execution_count": 9,
      "metadata": {
        "id": "oLfH2O3fzVJV"
      },
      "outputs": [],
      "source": [
        "def rotate_image(image, angle):\n",
        "    # 이미지의 높이와 너비 추출\n",
        "    height, width = image.shape[:2]\n",
        "\n",
        "    # 회전을 위한 변환 행렬 계산\n",
        "    center = (width // 2, height // 2)\n",
        "    matrix = cv2.getRotationMatrix2D(center, angle, 1.0)\n",
        "\n",
        "    # 이미지 회전\n",
        "    rotated_image = cv2.warpAffine(image, matrix, (width, height))\n",
        "\n",
        "    return rotated_image\n"
      ]
    },
    {
      "cell_type": "code",
      "execution_count": 10,
      "metadata": {
        "id": "MBWS4uJ2VQAz"
      },
      "outputs": [],
      "source": [
        "def parse_coordinates(line):\n",
        "    # 문자열을 공백을 기준으로 분리하여 숫자들로 이루어진 리스트 생성\n",
        "    coords = line.split()[:8]\n",
        "    coords = [int(coord) for coord in coords]\n",
        "\n",
        "    return coords"
      ]
    },
    {
      "cell_type": "code",
      "execution_count": 18,
      "metadata": {
        "id": "mneDvIhcEj1d"
      },
      "outputs": [],
      "source": [
        "# 텍스트 파일 경로\n",
        "file_path = \"/Users/jinheo/Desktop/42AI/OBJ00607_PS3_K3_NIA0086.txt\"\n",
        "# 텍스트 파일 열기\n",
        "with open(file_path, 'r') as file:\n",
        "    image_path = \"/Users/jinheo/Desktop/42AI/OBJ00607_PS3_K3_NIA0086.png\"\n",
        "    angle = 0\n",
        "    image = cv2.imread(image_path)\n",
        "    # image = rotate_image(image, angle) #회전 안돌릴거면 angle=0으로 바꾸고  주석 처리\n",
        "    # 각 라인을 순회하며 좌표 파싱\n",
        "    for line in file:\n",
        "        # 좌표 파싱해서 numpy로 만들기\n",
        "        coords = np.array(parse_coordinates(line))\n",
        "        coords = coords.reshape(4, 2)\n",
        "        image = draw_rotated_bbox(image, coords, angle)\n",
        "cv2.imshow(\"Window Name\", image)\n",
        "cv2.waitKey(0)\n",
        "cv2.destroyAllWindows()"
      ]
    },
    {
      "cell_type": "code",
      "execution_count": null,
      "metadata": {
        "id": "U02tY7bFSiMR"
      },
      "outputs": [],
      "source": [
        "import os"
      ]
    },
    {
      "cell_type": "code",
      "execution_count": null,
      "metadata": {
        "id": "Oid3MylYYzf8"
      },
      "outputs": [],
      "source": [
        "def convert_coordinates(coords_list):\n",
        "    converted_coords_list = []\n",
        "    for coords in coords_list:\n",
        "        x1, y1 = coords[0]\n",
        "        x2, y2 = coords[1]\n",
        "        x3, y3 = coords[2]\n",
        "        x4, y4 = coords[3]\n",
        "        classname = \"container\"\n",
        "        difficult = 0\n",
        "\n",
        "        converted_coords = f\"{x1} {y1} {x2} {y2} {x3} {y3} {x4} {y4} {classname} {difficult}\"\n",
        "        converted_coords_list.append(converted_coords)\n",
        "\n",
        "    return converted_coords_list\n"
      ]
    },
    {
      "cell_type": "code",
      "execution_count": null,
      "metadata": {
        "id": "yR1EMCN6Rx7D"
      },
      "outputs": [],
      "source": [
        "# 입력 경로\n",
        "image_folder_path = \"/content/drive/MyDrive/container_dataset_png/train_images\"\n",
        "label_folder_path = \"/content/drive/MyDrive/container_dataset_png/train_labels_dota\"\n",
        "\n",
        "# 출력 경로\n",
        "output_image_folder_path = \"/content/drive/MyDrive/container_dataset_png/train_images_rotate\"\n",
        "output_label_folder_path = \"/content/drive/MyDrive/container_dataset_png/train_labels_dota_rotate\"\n",
        "check_path = \"/content/drive/MyDrive/container_dataset_png/check_images\"\n",
        "\n",
        "#os.makedirs(output_image_folder_path, exist_ok=True)\n",
        "os.makedirs(output_label_folder_path, exist_ok=True)\n",
        "#os.makedirs(check_path, exist_ok=True)\n",
        "\n",
        "\n",
        "image_files = os.listdir(image_folder_path)\n",
        "\n",
        "# 이미지와 텍스트 파일 처리 반복문\n",
        "for image_file in image_files:\n",
        "\n",
        "  for i in range(0, 151, 30):\n",
        "    rotate_angle = i\n",
        "    # 이미지 경로\n",
        "    image_path = os.path.join(image_folder_path, image_file)\n",
        "\n",
        "    # 이미지 읽기\n",
        "    image = cv2.imread(image_path)\n",
        "    check_image = cv2.imread(image_path)\n",
        "\n",
        "    # 이미지 회전\n",
        "    rotated_image = rotate_image(image, rotate_angle)\n",
        "    check_image = rotate_image(check_image, rotate_angle)\n",
        "\n",
        "    # 회전된 이미지 파일 이름 정의\n",
        "    #rotated_image_file = os.path.splitext(image_file)[0] + \"_rotate_\" + str(i) + '.png'\n",
        "\n",
        "    # 회전된 이미지 저장\n",
        "    #output_image_path = os.path.join(output_image_folder_path, rotated_image_file)\n",
        "    #cv2.imwrite(output_image_path, rotated_image)\n",
        "\n",
        "    # 텍스트 파일 경로\n",
        "    label_file = os.path.splitext(image_file)[0] + \".txt\"\n",
        "    label_path = os.path.join(label_folder_path, label_file)\n",
        "\n",
        "    # 텍스트 파일 열기\n",
        "    res_coords = []\n",
        "    with open(label_path, 'r') as file:\n",
        "        for line in file:\n",
        "        # 좌표 파싱해서 numpy로 만들기\n",
        "          coords = np.array(parse_coordinates(line))\n",
        "          coords = coords.reshape(4, 2)\n",
        "          coords = rotate_coordinates(coords, -rotate_angle, center=(rotated_image.shape[1] // 2, rotated_image.shape[0] // 2))\n",
        "          res_coords.append(coords)\n",
        "          #check_image = draw_rotated_bbox(check_image, coords, rotate_angle)\n",
        "    converted_coords_list = convert_coordinates(res_coords)\n",
        "    #print(converted_coords_list)\n",
        "    #check_image_file = os.path.splitext(image_file)[0] + \"_rotate_\" + str(i) + \"_check\" + '.png'\n",
        "    #check_image_path = os.path.join(check_path, check_image_file)\n",
        "    #cv2.imwrite(check_image_path, check_image)\n",
        "    # 회전된 좌표를 파일에 저장\n",
        "    output_label_file = os.path.splitext(image_file)[0] + \"_rotate_\" + str(i) + '.txt'\n",
        "    output_label_path = os.path.join(output_label_folder_path, output_label_file)\n",
        "    with open(output_label_path, 'w') as file:\n",
        "      for converted_coords in converted_coords_list:\n",
        "        file.write(converted_coords + '\\n')\n",
        "        #함수를 통해 구한 res_coords를 적절한 형식에 맞춰서 넣어주면 된다\n",
        "\n",
        "  # 완료 메시지 출력\n",
        "  #print(\"이미지와 텍스트 파일 처리가 완료되었습니다.\")"
      ]
    },
    {
      "cell_type": "code",
      "execution_count": null,
      "metadata": {
        "id": "h1W5HCiGFzrT"
      },
      "outputs": [],
      "source": [
        "def count_files_in_directory(directory_path):\n",
        "    count = 0\n",
        "    for filename in os.listdir(directory_path):\n",
        "        if os.path.isfile(os.path.join(directory_path, filename)):\n",
        "            count += 1\n",
        "    return count\n",
        "\n",
        "# 특정 디렉토리 경로를 지정하여 파일 개수를 세는 함수 호출\n",
        "directory_path = \"/content/drive/MyDrive/container_dataset_png/train_images\"\n",
        "file_count = count_files_in_directory(directory_path)\n",
        "print(\"이미지 파일 개수:\", file_count)\n",
        "directory_path = \"/content/drive/MyDrive/container_dataset_png/train_labels_dota\"\n",
        "file_count = count_files_in_directory(directory_path)\n",
        "print(\"라벨 파일 개수:\", file_count)\n",
        "\n",
        "directory_path = \"/content/drive/MyDrive/container_dataset_png/train_images_rotate\"\n",
        "file_count = count_files_in_directory(directory_path)\n",
        "print(\"증강 이미지 파일 개수:\", file_count)\n",
        "directory_path = \"/content/drive/MyDrive/container_dataset_png/train_labels_dota_rotate\"\n",
        "file_count = count_files_in_directory(directory_path)\n",
        "print(\"증강 라벨 파일 개수:\", file_count)\n",
        "directory_path = \"/content/drive/MyDrive/container_dataset_png/check_images\"\n",
        "file_count = count_files_in_directory(directory_path)\n",
        "print(\"체크 이미지 파일 개수:\", file_count)"
      ]
    }
  ],
  "metadata": {
    "colab": {
      "private_outputs": true,
      "provenance": []
    },
    "kernelspec": {
      "display_name": "Python 3",
      "name": "python3"
    },
    "language_info": {
      "codemirror_mode": {
        "name": "ipython",
        "version": 3
      },
      "file_extension": ".py",
      "mimetype": "text/x-python",
      "name": "python",
      "nbconvert_exporter": "python",
      "pygments_lexer": "ipython3",
      "version": "3.8.2"
    }
  },
  "nbformat": 4,
  "nbformat_minor": 0
}
