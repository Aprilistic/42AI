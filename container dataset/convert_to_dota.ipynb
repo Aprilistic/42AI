{
 "cells": [
  {
   "cell_type": "code",
   "execution_count": 1,
   "metadata": {},
   "outputs": [],
   "source": [
    "import json\n",
    "import glob\n",
    "import os\n",
    "\n",
    "def convert_to_dota_format(data, output_directory):\n",
    "    # Loop over each instance in the input data\n",
    "    for feature in data[\"features\"]:\n",
    "        # Get the image id and remove the .png extension to create the filename\n",
    "        image_id = feature[\"properties\"][\"image_id\"]\n",
    "        filename = image_id.replace(\".png\", \".txt\")\n",
    "        \n",
    "        # Open the file in append mode, this will create the file if it doesn't exist\n",
    "        with open(f\"{output_directory}/{filename}\", \"a\") as file:\n",
    "            # Get the coordinates, category, and difficulty\n",
    "            coords = feature[\"properties\"][\"object_imcoords\"]\n",
    "            category = feature[\"properties\"][\"type_name\"]\n",
    "            difficulty = 0  # As specified, the difficulty is always 0\n",
    "            \n",
    "            # Write the data to the file in DOTA format\n",
    "            file.write(f\"{coords},{category},{difficulty}\\n\")\n",
    "\n",
    "# The directory containing the input .json files\n",
    "input_directory = \"train_labels/\"\n",
    "# The directory where the output .txt files will be saved\n",
    "output_directory = \"train_labels_dota/\"\n",
    "\n",
    "# Create the output directory if it doesn't exist\n",
    "os.makedirs(output_directory, exist_ok=True)\n",
    "\n",
    "# Get a list of all .json files in the input directory\n",
    "json_files = glob.glob(f\"{input_directory}/*.json\")\n",
    "\n",
    "# Process each .json file\n",
    "for json_file in json_files:\n",
    "    # Read the file and parse the JSON content\n",
    "    with open(json_file, \"r\") as file:\n",
    "        data = json.load(file)\n",
    "        \n",
    "    # Convert the data to DOTA format and save it to the output directory\n",
    "    convert_to_dota_format(data, output_directory)\n"
   ]
  },
  {
   "cell_type": "code",
   "execution_count": null,
   "metadata": {},
   "outputs": [],
   "source": []
  }
 ],
 "metadata": {
  "kernelspec": {
   "display_name": "Python 3",
   "language": "python",
   "name": "python3"
  },
  "language_info": {
   "codemirror_mode": {
    "name": "ipython",
    "version": 3
   },
   "file_extension": ".py",
   "mimetype": "text/x-python",
   "name": "python",
   "nbconvert_exporter": "python",
   "pygments_lexer": "ipython3",
   "version": "3.11.4"
  },
  "orig_nbformat": 4
 },
 "nbformat": 4,
 "nbformat_minor": 2
}
