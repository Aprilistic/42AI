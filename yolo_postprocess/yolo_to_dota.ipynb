{
 "cells": [
  {
   "cell_type": "code",
   "execution_count": 1,
   "metadata": {},
   "outputs": [],
   "source": [
    "import pandas as pd"
   ]
  },
  {
   "cell_type": "code",
   "execution_count": 2,
   "metadata": {},
   "outputs": [],
   "source": [
    "df = pd.read_csv('/Users/jinheo/Desktop/42AI/yolo_postprocess/bounding_boxes_downscaled.csv')"
   ]
  },
  {
   "cell_type": "code",
   "execution_count": 3,
   "metadata": {},
   "outputs": [],
   "source": [
    "df = df.drop(columns=['File', 'Confidence'])"
   ]
  },
  {
   "cell_type": "code",
   "execution_count": 4,
   "metadata": {},
   "outputs": [
    {
     "data": {
      "text/html": [
       "<div>\n",
       "<style scoped>\n",
       "    .dataframe tbody tr th:only-of-type {\n",
       "        vertical-align: middle;\n",
       "    }\n",
       "\n",
       "    .dataframe tbody tr th {\n",
       "        vertical-align: top;\n",
       "    }\n",
       "\n",
       "    .dataframe thead th {\n",
       "        text-align: right;\n",
       "    }\n",
       "</style>\n",
       "<table border=\"1\" class=\"dataframe\">\n",
       "  <thead>\n",
       "    <tr style=\"text-align: right;\">\n",
       "      <th></th>\n",
       "      <th>X1</th>\n",
       "      <th>Y1</th>\n",
       "      <th>X2</th>\n",
       "      <th>Y2</th>\n",
       "      <th>X3</th>\n",
       "      <th>Y3</th>\n",
       "      <th>X4</th>\n",
       "      <th>Y4</th>\n",
       "    </tr>\n",
       "  </thead>\n",
       "  <tbody>\n",
       "    <tr>\n",
       "      <th>0</th>\n",
       "      <td>623.0</td>\n",
       "      <td>2.501110e-12</td>\n",
       "      <td>635.655487</td>\n",
       "      <td>1.397538</td>\n",
       "      <td>617.655487</td>\n",
       "      <td>164.397538</td>\n",
       "      <td>605.0</td>\n",
       "      <td>163.0</td>\n",
       "    </tr>\n",
       "    <tr>\n",
       "      <th>1</th>\n",
       "      <td>355.0</td>\n",
       "      <td>-1.008971e-12</td>\n",
       "      <td>373.512370</td>\n",
       "      <td>2.876922</td>\n",
       "      <td>350.512370</td>\n",
       "      <td>150.876922</td>\n",
       "      <td>332.0</td>\n",
       "      <td>148.0</td>\n",
       "    </tr>\n",
       "    <tr>\n",
       "      <th>2</th>\n",
       "      <td>622.0</td>\n",
       "      <td>1.406875e-12</td>\n",
       "      <td>631.373674</td>\n",
       "      <td>0.924165</td>\n",
       "      <td>617.373674</td>\n",
       "      <td>142.924165</td>\n",
       "      <td>608.0</td>\n",
       "      <td>142.0</td>\n",
       "    </tr>\n",
       "    <tr>\n",
       "      <th>3</th>\n",
       "      <td>625.0</td>\n",
       "      <td>-4.689582e-13</td>\n",
       "      <td>638.876362</td>\n",
       "      <td>1.197453</td>\n",
       "      <td>621.876362</td>\n",
       "      <td>198.197453</td>\n",
       "      <td>608.0</td>\n",
       "      <td>197.0</td>\n",
       "    </tr>\n",
       "    <tr>\n",
       "      <th>4</th>\n",
       "      <td>615.0</td>\n",
       "      <td>2.160050e-12</td>\n",
       "      <td>628.956508</td>\n",
       "      <td>0.905575</td>\n",
       "      <td>611.956508</td>\n",
       "      <td>262.905575</td>\n",
       "      <td>598.0</td>\n",
       "      <td>262.0</td>\n",
       "    </tr>\n",
       "  </tbody>\n",
       "</table>\n",
       "</div>"
      ],
      "text/plain": [
       "      X1            Y1          X2        Y2          X3          Y3     X4  \\\n",
       "0  623.0  2.501110e-12  635.655487  1.397538  617.655487  164.397538  605.0   \n",
       "1  355.0 -1.008971e-12  373.512370  2.876922  350.512370  150.876922  332.0   \n",
       "2  622.0  1.406875e-12  631.373674  0.924165  617.373674  142.924165  608.0   \n",
       "3  625.0 -4.689582e-13  638.876362  1.197453  621.876362  198.197453  608.0   \n",
       "4  615.0  2.160050e-12  628.956508  0.905575  611.956508  262.905575  598.0   \n",
       "\n",
       "      Y4  \n",
       "0  163.0  \n",
       "1  148.0  \n",
       "2  142.0  \n",
       "3  197.0  \n",
       "4  262.0  "
      ]
     },
     "execution_count": 4,
     "metadata": {},
     "output_type": "execute_result"
    }
   ],
   "source": [
    "df.head()"
   ]
  },
  {
   "cell_type": "code",
   "execution_count": 5,
   "metadata": {},
   "outputs": [],
   "source": [
    "for col in [\"X1\", \"Y1\", \"X2\", \"Y2\", \"X3\", \"Y3\", \"X4\", \"Y4\"]:\n",
    "    df[col] = df[col].round().astype(int)\n"
   ]
  },
  {
   "cell_type": "code",
   "execution_count": 8,
   "metadata": {},
   "outputs": [],
   "source": [
    "# Create DOTA annotation format: \"x1 y1 x2 y2 x3 y3 x4 y4 0 0\"\n",
    "df[\"DOTA\"] = df.apply(lambda row: f\"{row['X1']} {row['Y1']} {row['X2']} {row['Y2']} {row['X3']} {row['Y3']} {row['X4']} {row['Y4']} 0 0\", axis=1)\n",
    "\n",
    "# Get the DOTA annotations\n",
    "dota_annotations = df[\"DOTA\"].tolist()\n",
    "\n",
    "# Convert list to a string with line breaks\n",
    "dota_string = \"\\n\".join(dota_annotations)\n",
    "\n",
    "# Save the string to a text file\n",
    "with open(\"/Users/jinheo/Desktop/42AI/OBJ00607_PS3_K3_NIA0086.txt\", \"w\") as file:\n",
    "    file.write(dota_string)\n"
   ]
  },
  {
   "cell_type": "code",
   "execution_count": null,
   "metadata": {},
   "outputs": [],
   "source": []
  }
 ],
 "metadata": {
  "kernelspec": {
   "display_name": "Python 3",
   "language": "python",
   "name": "python3"
  },
  "language_info": {
   "codemirror_mode": {
    "name": "ipython",
    "version": 3
   },
   "file_extension": ".py",
   "mimetype": "text/x-python",
   "name": "python",
   "nbconvert_exporter": "python",
   "pygments_lexer": "ipython3",
   "version": "3.8.2"
  },
  "orig_nbformat": 4
 },
 "nbformat": 4,
 "nbformat_minor": 2
}
