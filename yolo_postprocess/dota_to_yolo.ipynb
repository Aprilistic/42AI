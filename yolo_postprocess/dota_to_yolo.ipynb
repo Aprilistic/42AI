{
 "cells": [
  {
   "cell_type": "code",
   "execution_count": 3,
   "metadata": {},
   "outputs": [],
   "source": [
    "import os\n",
    "import re\n",
    "from pathlib import Path\n",
    "\n",
    "# Function to process each line in a file\n",
    "def process_line(line):\n",
    "    try:\n",
    "        # Use regular expressions (regex) to find all coordinate pairs\n",
    "        coord_pairs = re.findall(r'\\[\\s*([^]]+?)\\s*\\]', line)\n",
    "        \n",
    "        # Split each pair into individual coordinates, convert to float, normalize, and flatten the list\n",
    "        coords = [float(coord) / 768 for pair in coord_pairs for coord in pair.split()]\n",
    "        \n",
    "        # Add the class index and return the result\n",
    "        return \"0 \" + \" \".join(map(str, coords))\n",
    "    except Exception as e:\n",
    "        print(f\"Error processing line: {line}. Error: {e}\")\n",
    "        return None\n",
    "\n",
    "# Function to process each file\n",
    "def process_file(input_dir, output_dir, file_name):\n",
    "    try:\n",
    "        # Get the input file path\n",
    "        input_path = os.path.join(input_dir, file_name)\n",
    "        \n",
    "        # Replace 'label' with 'image' in the file name\n",
    "        new_file_name = file_name.replace('label', 'image')\n",
    "        # Get the output file path\n",
    "        output_path = os.path.join(output_dir, new_file_name)\n",
    "        \n",
    "        # Open the input and output files\n",
    "        with open(input_path, \"r\") as input_file, open(output_path, \"w\") as output_file:\n",
    "            # Process each line in the input file\n",
    "            for line in input_file:\n",
    "                processed_line = process_line(line)\n",
    "                if processed_line is not None:\n",
    "                    # Write the processed line to the output file\n",
    "                    output_file.write(processed_line + \"\\n\")\n",
    "    except Exception as e:\n",
    "        print(f\"Error processing file: {file_name}. Error: {e}\")\n",
    "\n",
    "# Specify the input and output directories\n",
    "input_dir = \"created_label/\"\n",
    "output_dir = \"new_label/\"\n",
    "\n",
    "# Create the output directory if it doesn't exist\n",
    "Path(output_dir).mkdir(parents=True, exist_ok=True)\n",
    "\n",
    "# Process each file in the input directory\n",
    "for file_name in os.listdir(input_dir):\n",
    "    if file_name.endswith(\".txt\"):\n",
    "        process_file(input_dir, output_dir, file_name)\n"
   ]
  },
  {
   "cell_type": "code",
   "execution_count": null,
   "metadata": {},
   "outputs": [],
   "source": []
  }
 ],
 "metadata": {
  "kernelspec": {
   "display_name": "Python 3",
   "language": "python",
   "name": "python3"
  },
  "language_info": {
   "codemirror_mode": {
    "name": "ipython",
    "version": 3
   },
   "file_extension": ".py",
   "mimetype": "text/x-python",
   "name": "python",
   "nbconvert_exporter": "python",
   "pygments_lexer": "ipython3",
   "version": "3.8.2"
  },
  "orig_nbformat": 4
 },
 "nbformat": 4,
 "nbformat_minor": 2
}
