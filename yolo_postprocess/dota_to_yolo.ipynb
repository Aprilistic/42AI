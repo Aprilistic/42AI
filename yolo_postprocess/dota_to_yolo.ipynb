{
 "cells": [
  {
   "cell_type": "code",
   "execution_count": 1,
   "metadata": {},
   "outputs": [],
   "source": [
    "import os\n",
    "import glob\n",
    "\n",
    "def modify_files(directory):\n",
    "    # Get all .txt files in the directory\n",
    "    file_paths = glob.glob(os.path.join(directory, \"*.txt\"))\n",
    "\n",
    "    for file_path in file_paths:\n",
    "        with open(file_path, 'r') as file:\n",
    "            lines = file.readlines()\n",
    "\n",
    "        # Modify each line\n",
    "        modified_lines = []\n",
    "        for line in lines:\n",
    "            parts = line.strip().split(',')\n",
    "            \n",
    "            # Convert float strings to integers\n",
    "            for i in range(8):  # first 8 elements are floats\n",
    "                parts[i] = str(int(float(parts[i])))\n",
    "                \n",
    "            modified_line = ' '.join(parts)\n",
    "            modified_lines.append(modified_line)\n",
    "\n",
    "        # Overwrite the file with the modified lines\n",
    "        with open(file_path, 'w') as file:\n",
    "            file.write('\\n'.join(modified_lines))\n"
   ]
  },
  {
   "cell_type": "code",
   "execution_count": 2,
   "metadata": {},
   "outputs": [],
   "source": [
    "modify_files('/Users/jinheo/Downloads/container_dataset_grained/labels')"
   ]
  },
  {
   "cell_type": "code",
   "execution_count": 1,
   "metadata": {},
   "outputs": [],
   "source": [
    "import os\n",
    "import pandas as pd\n",
    "\n",
    "def convert_dota_to_yolo(input_dir, output_dir):\n",
    "    # Create the output directory if it does not exist\n",
    "    os.makedirs(output_dir, exist_ok=True)\n",
    "\n",
    "    # Iterate over all .txt files in the input directory\n",
    "    for file_name in os.listdir(input_dir):\n",
    "        if file_name.endswith('.txt'):\n",
    "            # Full path to the input file\n",
    "            input_file_path = os.path.join(input_dir, file_name)\n",
    "            \n",
    "            # Read the DOTA annotations\n",
    "            data = pd.read_csv(input_file_path, header=None, sep=' ')\n",
    "            \n",
    "            # Normalize the bounding box coordinates\n",
    "            normalized_data = data.iloc[:,:8] / 1024\n",
    "            \n",
    "            # Add the label_index column to the beginning of the DataFrame\n",
    "            normalized_data.insert(0, 'label_index', 0)\n",
    "            \n",
    "            # Full path to the output file\n",
    "            output_file_path = os.path.join(output_dir, file_name)\n",
    "            \n",
    "            # Write the YOLO segment annotations to the output file\n",
    "            normalized_data.to_csv(output_file_path, header=False, index=False, sep=' ')\n",
    "\n",
    "# Convert DOTA annotations to YOLO segment format\n",
    "convert_dota_to_yolo('/Users/jinheo/Downloads/container_dataset_grained/labels', '/Users/jinheo/Downloads/container_dataset_grained/n_labels')\n"
   ]
  },
  {
   "cell_type": "code",
   "execution_count": null,
   "metadata": {},
   "outputs": [],
   "source": []
  }
 ],
 "metadata": {
  "kernelspec": {
   "display_name": "Python 3",
   "language": "python",
   "name": "python3"
  },
  "language_info": {
   "codemirror_mode": {
    "name": "ipython",
    "version": 3
   },
   "file_extension": ".py",
   "mimetype": "text/x-python",
   "name": "python",
   "nbconvert_exporter": "python",
   "pygments_lexer": "ipython3",
   "version": "3.8.2"
  },
  "orig_nbformat": 4
 },
 "nbformat": 4,
 "nbformat_minor": 2
}
