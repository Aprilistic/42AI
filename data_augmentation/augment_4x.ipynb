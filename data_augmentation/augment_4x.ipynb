{
 "cells": [
  {
   "cell_type": "code",
   "execution_count": 2,
   "metadata": {},
   "outputs": [
    {
     "ename": "ModuleNotFoundError",
     "evalue": "No module named 'cv2'",
     "output_type": "error",
     "traceback": [
      "\u001b[0;31m---------------------------------------------------------------------------\u001b[0m",
      "\u001b[0;31mModuleNotFoundError\u001b[0m                       Traceback (most recent call last)",
      "Cell \u001b[0;32mIn[2], line 1\u001b[0m\n\u001b[0;32m----> 1\u001b[0m \u001b[39mimport\u001b[39;00m \u001b[39mcv2\u001b[39;00m\n\u001b[1;32m      2\u001b[0m \u001b[39mimport\u001b[39;00m \u001b[39mnumpy\u001b[39;00m \u001b[39mas\u001b[39;00m \u001b[39mnp\u001b[39;00m\n\u001b[1;32m      3\u001b[0m \u001b[39mimport\u001b[39;00m \u001b[39mos\u001b[39;00m\n",
      "\u001b[0;31mModuleNotFoundError\u001b[0m: No module named 'cv2'"
     ]
    }
   ],
   "source": [
    "import cv2\n",
    "import numpy as np\n",
    "import os\n",
    "import glob\n",
    "import json\n",
    "\n",
    "# Use the same rotate_image_and_box and flip_image_and_box functions from above\n",
    "\n",
    "# Define a function to perform the augmentation\n",
    "def augment_dataset(image_dir, label_dir):\n",
    "    # Get a list of all .png files in the image directory\n",
    "    image_files = glob.glob(os.path.join(image_dir, \"*.png\"))\n",
    "\n",
    "    # For each image file\n",
    "    for image_file in image_files:\n",
    "        # Load the image\n",
    "        image = cv2.imread(image_file)\n",
    "\n",
    "        # Load the corresponding label\n",
    "        label_file = os.path.join(label_dir, os.path.basename(image_file).replace(\".png\", \".txt\"))\n",
    "        with open(label_file, \"r\") as file:\n",
    "            label = json.load(file)\n",
    "\n",
    "        # For each bounding box in the label\n",
    "        for box in label[\"features\"]:\n",
    "            # Get the bounding box coordinates\n",
    "            box_coords = box[\"properties\"][\"object_imcoords\"].split(\",\")\n",
    "            box_coords = list(map(float, box_coords))\n",
    "\n",
    "            # Rotate the image and bounding box\n",
    "            angle = np.random.uniform(-180, 180)\n",
    "            rotated_image, rotated_box = rotate_image_and_box(image, box_coords, angle)\n",
    "\n",
    "            # Save the rotated images and labels\n",
    "            cv2.imwrite(os.path.join(image_dir, \"augmented\", \"rotated_\" + os.path.basename(image_file)), rotated_image)\n",
    "            box[\"properties\"][\"object_imcoords\"] = \",\".join(map(str, rotated_box.flatten()))\n",
    "            with open(os.path.join(label_dir, \"augmented\", \"rotated_\" + os.path.basename(label_file)), \"w\") as file:\n",
    "                json.dump(label, file)\n",
    "\n",
    "    # Now flip all the original and rotated images\n",
    "    all_images = glob.glob(os.path.join(image_dir, \"*.png\")) + glob.glob(os.path.join(image_dir, \"augmented\", \"*.png\"))\n",
    "\n",
    "    # For each image file\n",
    "    for image_file in all_images:\n",
    "        # Load the image\n",
    "        image = cv2.imread(image_file)\n",
    "\n",
    "        # Load the corresponding label\n",
    "        label_file = os.path.join(label_dir, os.path.basename(image_file).replace(\".png\", \".txt\"))\n",
    "        if \"augmented\" in image_file:\n",
    "            label_file = os.path.join(label_dir, \"augmented\", os.path.basename(image_file).replace(\".png\", \".txt\"))\n",
    "        with open(label_file, \"r\") as file:\n",
    "            label = json.load(file)\n",
    "\n",
    "        # For each bounding box in the label\n",
    "        for box in label[\"features\"]:\n",
    "            # Get the bounding box coordinates\n",
    "            box_coords = box[\"properties\"][\"object_imcoords\"].split(\",\")\n",
    "            box_coords = list(map(float, box_coords))\n",
    "\n",
    "            # Flip the image and bounding box\n",
    "            flipped_image, flipped_box = flip_image_and_box(image, box_coords)\n",
    "\n",
    "            # Save the flipped images and labels\n",
    "            cv2.imwrite(os.path.join(image_dir, \"augmented\", \"flipped_\" + os.path.basename(image_file)), flipped_image)\n",
    "            box[\"properties\"][\"object_imcoords\"] = \",\".join(map(str, flipped_box))\n",
    "            with open(os.path.join(label_dir, \"augmented\", \"flipped_\" + os.path.basename(label_file)), \"w\") as file:\n",
    "                json.dump(label, file)\n",
    "\n",
    "# Use the function\n",
    "augment_dataset(\"train_images/\", \"train_labels_dota/\")\n"
   ]
  },
  {
   "cell_type": "code",
   "execution_count": null,
   "metadata": {},
   "outputs": [],
   "source": []
  }
 ],
 "metadata": {
  "kernelspec": {
   "display_name": "Python 3",
   "language": "python",
   "name": "python3"
  },
  "language_info": {
   "codemirror_mode": {
    "name": "ipython",
    "version": 3
   },
   "file_extension": ".py",
   "mimetype": "text/x-python",
   "name": "python",
   "nbconvert_exporter": "python",
   "pygments_lexer": "ipython3",
   "version": "3.11.4"
  },
  "orig_nbformat": 4
 },
 "nbformat": 4,
 "nbformat_minor": 2
}
