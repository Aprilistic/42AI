{
 "cells": [
  {
   "cell_type": "code",
   "execution_count": 2,
   "metadata": {},
   "outputs": [
    {
     "ename": "ModuleNotFoundError",
     "evalue": "No module named 'cv2'",
     "output_type": "error",
     "traceback": [
      "\u001b[0;31m---------------------------------------------------------------------------\u001b[0m",
      "\u001b[0;31mModuleNotFoundError\u001b[0m                       Traceback (most recent call last)",
      "Cell \u001b[0;32mIn[2], line 1\u001b[0m\n\u001b[0;32m----> 1\u001b[0m \u001b[39mimport\u001b[39;00m \u001b[39mcv2\u001b[39;00m\n\u001b[1;32m      2\u001b[0m \u001b[39mimport\u001b[39;00m \u001b[39mnumpy\u001b[39;00m \u001b[39mas\u001b[39;00m \u001b[39mnp\u001b[39;00m\n\u001b[1;32m      3\u001b[0m \u001b[39mimport\u001b[39;00m \u001b[39mos\u001b[39;00m\n",
      "\u001b[0;31mModuleNotFoundError\u001b[0m: No module named 'cv2'"
     ]
    }
   ],
   "source": [
    "import os\n",
    "import glob\n",
    "import numpy as np\n",
    "import cv2\n",
    "import random\n",
    "from shapely.geometry import box, Polygon\n",
    "from shapely.affinity import rotate\n",
    "from PIL import Image\n",
    "\n",
    "def get_rotated_box(box, angle, center, img_shape):\n",
    "    \"\"\"Get rotated box for a given angle and clip to image boundaries\"\"\"\n",
    "    rect = Polygon(box)\n",
    "    rotated_rect = rotate(rect, angle, origin=center)\n",
    "    clipped_rotated_rect = []\n",
    "    for x, y in rotated_rect.exterior.coords[:]:\n",
    "        x = np.clip(x, 0, img_shape[1] - 1)\n",
    "        y = np.clip(y, 0, img_shape[0] - 1)\n",
    "        clipped_rotated_rect.append((x, y))\n",
    "    return clipped_rotated_rect\n",
    "\n",
    "def rotate_image_and_labels(image_path, labels_path, save_dir_images, save_dir_labels):\n",
    "    \"\"\"Rotate image and labels\"\"\"\n",
    "    for angle in range(3):\n",
    "        angle = random.uniform(0, 360)\n",
    "        image = Image.open(image_path)\n",
    "        image_rotated = image.rotate(angle)\n",
    "        image_rotated.save(os.path.join(save_dir_images, f\"{os.path.basename(image_path).split('.')[0]}_rotated{angle}.png\"))\n",
    "        \n",
    "        with open(labels_path, 'r') as f:\n",
    "            lines = f.readlines()\n",
    "        with open(os.path.join(save_dir_labels, f\"{os.path.basename(labels_path).split('.')[0]}_rotated{angle}.txt\"), 'w') as f:\n",
    "            for line in lines:\n",
    "                coords = list(map(float, line.split(',')[:8]))\n",
    "                coords = [(coords[i], coords[i + 1]) for i in range(0, len(coords), 2)]\n",
    "                new_coords = get_rotated_box(coords, angle, (image.width / 2, image.height / 2))\n",
    "                new_coords = [val for sublist in new_coords for val in sublist]\n",
    "                f.write(','.join(map(str, new_coords)) + line[line.find('container'):])\n",
    "\n",
    "def flip_image_and_labels(image_path, labels_path, save_dir_images, save_dir_labels):\n",
    "    \"\"\"Flip image and labels\"\"\"\n",
    "    image = Image.open(image_path)\n",
    "    image_flipped = image.transpose(Image.FLIP_TOP_BOTTOM)\n",
    "    image_flipped.save(os.path.join(save_dir_images, f\"{os.path.basename(image_path).split('.')[0]}_flipped.png\"))\n",
    "\n",
    "    with open(labels_path, 'r') as f:\n",
    "        lines = f.readlines()\n",
    "    with open(os.path.join(save_dir_labels, f\"{os.path.basename(labels_path).split('.')[0]}_flipped.txt\"), 'w') as f:\n",
    "        for line in lines:\n",
    "            coords = list(map(float, line.split(',')[:8]))\n",
    "            for i in range(1, 8, 2):\n",
    "                coords[i] = image.height - coords[i]\n",
    "            f.write(','.join(map(str, coords)) + line[line.find('container'):])\n",
    "\n",
    "# Get all image and label paths\n",
    "image_paths = glob.glob('train_images/*.png')\n",
    "label_paths = [path.replace('train_images', 'train_labels_dota').replace('.png', '.txt') for path in image_paths]\n",
    "\n",
    "# Create directories to save flipped and rotated images and labels\n",
    "os.makedirs('augmented_images', exist_ok=True)\n",
    "os.makedirs('augmented_labels', exist_ok=True)\n",
    "\n",
    "# Perform flipping and rotating\n",
    "for image_path, labels_path in zip(image_paths, label_paths):\n",
    "    flip_image_and_labels(image_path, labels_path, 'augmented_images', 'augmented_labels')\n",
    "    rotate_image_and_labels(image_path, labels_path, 'augmented_images', 'augmented_labels')\n"
   ]
  },
  {
   "cell_type": "code",
   "execution_count": null,
   "metadata": {},
   "outputs": [],
   "source": []
  }
 ],
 "metadata": {
  "kernelspec": {
   "display_name": "Python 3",
   "language": "python",
   "name": "python3"
  },
  "language_info": {
   "codemirror_mode": {
    "name": "ipython",
    "version": 3
   },
   "file_extension": ".py",
   "mimetype": "text/x-python",
   "name": "python",
   "nbconvert_exporter": "python",
   "pygments_lexer": "ipython3",
   "version": "3.11.4"
  },
  "orig_nbformat": 4
 },
 "nbformat": 4,
 "nbformat_minor": 2
}
