{
 "cells": [
  {
   "cell_type": "code",
   "execution_count": 2,
   "metadata": {},
   "outputs": [
    {
     "ename": "ModuleNotFoundError",
     "evalue": "No module named 'cv2'",
     "output_type": "error",
     "traceback": [
      "\u001b[0;31m---------------------------------------------------------------------------\u001b[0m",
      "\u001b[0;31mModuleNotFoundError\u001b[0m                       Traceback (most recent call last)",
      "Cell \u001b[0;32mIn[2], line 1\u001b[0m\n\u001b[0;32m----> 1\u001b[0m \u001b[39mimport\u001b[39;00m \u001b[39mcv2\u001b[39;00m\n\u001b[1;32m      2\u001b[0m \u001b[39mimport\u001b[39;00m \u001b[39mnumpy\u001b[39;00m \u001b[39mas\u001b[39;00m \u001b[39mnp\u001b[39;00m\n\u001b[1;32m      3\u001b[0m \u001b[39mimport\u001b[39;00m \u001b[39mos\u001b[39;00m\n",
      "\u001b[0;31mModuleNotFoundError\u001b[0m: No module named 'cv2'"
     ]
    }
   ],
   "source": [
    "import cv2\n",
    "import numpy as np\n",
    "import os\n",
    "import glob\n",
    "\n",
    "def rotate_image_and_box(image, box, angle):\n",
    "    h, w = image.shape[:2]\n",
    "    cx, cy = w // 2, h // 2\n",
    "    M = cv2.getRotationMatrix2D((cx, cy), angle, 1)\n",
    "    rotated_image = cv2.warpAffine(image, M, (w, h))\n",
    "\n",
    "    x1, y1, x2, y2, x3, y3, x4, y4 = box\n",
    "    box_coords = np.array([[x1, y1], [x2, y2], [x3, y3], [x4, y4]])\n",
    "    ones = np.ones(shape=(len(box_coords), 1))\n",
    "    box_coords = np.hstack([box_coords, ones])\n",
    "    rotated_box = M.dot(box_coords.T).T\n",
    "    return rotated_image, rotated_box\n",
    "\n",
    "def flip_image_and_box(image, box):\n",
    "    flipped_image = cv2.flip(image, 1)\n",
    "    x1, y1, x2, y2, x3, y3, x4, y4 = box\n",
    "    flipped_box = [image.shape[1] - x1, y1, image.shape[1] - x3, y3, image.shape[1] - x2, y2, image.shape[1] - x4, y4]\n",
    "    return flipped_image, flipped_box\n",
    "\n",
    "def augment_dataset(image_dir, label_dir):\n",
    "    # Make sure the output directories exist\n",
    "    os.makedirs(os.path.join(image_dir, \"augmented\"), exist_ok=True)\n",
    "    os.makedirs(os.path.join(label_dir, \"augmented\"), exist_ok=True)\n",
    "    \n",
    "    image_files = glob.glob(os.path.join(image_dir, \"*.png\"))\n",
    "    for image_file in image_files:\n",
    "        image = cv2.imread(image_file)\n",
    "        label_file = os.path.join(label_dir, os.path.basename(image_file).replace(\".png\", \".txt\"))\n",
    "        with open(label_file, \"r\") as file:\n",
    "            lines = file.readlines()\n",
    "\n",
    "        for line in lines:\n",
    "            elements = line.strip().split(',')\n",
    "            box_coords_str = elements[:-2]\n",
    "            category = elements[-2]\n",
    "            difficult = elements[-1]\n",
    "            box_coords = list(map(float, box_coords_str))\n",
    "\n",
    "            angle = np.random.uniform(-180, 180)\n",
    "            rotated_image, rotated_box = rotate_image_and_box(image, box_coords, angle)\n",
    "\n",
    "            cv2.imwrite(os.path.join(image_dir, \"augmented\", \"rotated_\" + os.path.basename(image_file)), rotated_image)\n",
    "            with open(os.path.join(label_dir, \"augmented\", \"rotated_\" + os.path.basename(label_file)), \"a\") as file:\n",
    "                file.write(\",\".join(map(str, rotated_box.flatten())) + f\",{category},{difficult}\\n\")\n",
    "\n",
    "    all_images = glob.glob(os.path.join(image_dir, \"*.png\")) + glob.glob(os.path.join(image_dir, \"augmented\", \"*.png\"))\n",
    "    for image_file in all_images:\n",
    "        image = cv2.imread(image_file)\n",
    "        label_file = os.path.join(label_dir, os.path.basename(image_file).replace(\".png\", \".txt\"))\n",
    "        if \"augmented\" in image_file:\n",
    "            label_file = os.path.join(label_dir, \"augmented\", os.path.basename(image_file).replace(\".png\", \".txt\"))\n",
    "        with open(label_file, \"r\") as file:\n",
    "            lines = file.readlines()\n",
    "\n",
    "        for line in lines:\n",
    "            elements = line.strip().split(',')\n",
    "            box_coords_str = elements[:-2]\n",
    "            category = elements[-2]\n",
    "            difficult = elements[-1]\n",
    "            box_coords = list(map(float, box_coords_str))\n",
    "\n",
    "            flipped_image, flipped_box = flip_image_and_box(image, box_coords)\n",
    "\n",
    "            cv2.imwrite(os.path.join(image_dir, \"augmented\", \"flipped_\" + os.path.basename(image_file)), flipped_image)\n",
    "            with open(os.path.join(label_dir, \"augmented\", \"flipped_\" + os.path.basename(label_file)), \"a\") as file:\n",
    "                file.write(\",\".join(map(str, flipped_box)) + f\",{category},{difficult}\\n\")\n",
    "\n",
    "augment_dataset(\"train_images\", \"train_labels_dota\")\n"
   ]
  },
  {
   "cell_type": "code",
   "execution_count": null,
   "metadata": {},
   "outputs": [],
   "source": []
  }
 ],
 "metadata": {
  "kernelspec": {
   "display_name": "Python 3",
   "language": "python",
   "name": "python3"
  },
  "language_info": {
   "codemirror_mode": {
    "name": "ipython",
    "version": 3
   },
   "file_extension": ".py",
   "mimetype": "text/x-python",
   "name": "python",
   "nbconvert_exporter": "python",
   "pygments_lexer": "ipython3",
   "version": "3.11.4"
  },
  "orig_nbformat": 4
 },
 "nbformat": 4,
 "nbformat_minor": 2
}
