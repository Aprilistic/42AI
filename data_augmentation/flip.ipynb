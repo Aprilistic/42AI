{
 "cells": [
  {
   "cell_type": "code",
   "execution_count": 2,
   "metadata": {},
   "outputs": [
    {
     "name": "stdout",
     "output_type": "stream",
     "text": [
      "Augmentation finished.\n"
     ]
    }
   ],
   "source": [
    "import os\n",
    "import pandas as pd\n",
    "from PIL import Image\n",
    "import shutil\n",
    "\n",
    "# Directories for images and labels\n",
    "img_dir = 'train_images/'\n",
    "label_dir = 'train_labels_dota/'\n",
    "\n",
    "# Directories for output\n",
    "img_output_dir = 'train_images_flipped/'\n",
    "label_output_dir = 'train_labels_flipped/'\n",
    "\n",
    "# Make output directories if they do not exist\n",
    "os.makedirs(img_output_dir, exist_ok=True)\n",
    "os.makedirs(label_output_dir, exist_ok=True)\n",
    "\n",
    "# Iterate over each file in the image directory\n",
    "for img_file in os.listdir(img_dir):\n",
    "    # Open image\n",
    "    img = Image.open(os.path.join(img_dir, img_file))\n",
    "    width, height = img.size\n",
    "\n",
    "    # Flip image\n",
    "    img_flipped = img.transpose(Image.FLIP_TOP_BOTTOM)\n",
    "\n",
    "    # Save flipped image\n",
    "    img_flipped.save(os.path.join(\n",
    "        img_output_dir, img_file.rsplit('.', 1)[0] + '_flipped.jpg'))\n",
    "\n",
    "    # Copy original image to new directory\n",
    "    shutil.copy2(os.path.join(img_dir, img_file),\n",
    "                 os.path.join(img_output_dir, img_file))\n",
    "\n",
    "    # Read corresponding label\n",
    "    label_file = os.path.join(label_dir, img_file.rsplit('.', 1)[0] + '.txt')\n",
    "    labels = pd.read_csv(label_file, header=None)\n",
    "\n",
    "    # Flip y-coordinates of bounding boxes\n",
    "    labels[[1, 3, 5, 7]] = height - labels[[1, 3, 5, 7]]\n",
    "\n",
    "    # Save new labels\n",
    "    labels.to_csv(os.path.join(label_output_dir, img_file.rsplit(\n",
    "        '.', 1)[0] + '_flipped.txt'), header=None, index=None)\n",
    "\n",
    "    # Copy original label to new directory\n",
    "    shutil.copy2(label_file, os.path.join(\n",
    "        label_output_dir, img_file.rsplit('.', 1)[0] + '.txt'))\n",
    "\n",
    "print('Augmentation finished.')\n"
   ]
  },
  {
   "cell_type": "code",
   "execution_count": null,
   "metadata": {},
   "outputs": [],
   "source": []
  }
 ],
 "metadata": {
  "kernelspec": {
   "display_name": "tf",
   "language": "python",
   "name": "python3"
  },
  "language_info": {
   "codemirror_mode": {
    "name": "ipython",
    "version": 3
   },
   "file_extension": ".py",
   "mimetype": "text/x-python",
   "name": "python",
   "nbconvert_exporter": "python",
   "pygments_lexer": "ipython3",
   "version": "3.10.9"
  },
  "orig_nbformat": 4
 },
 "nbformat": 4,
 "nbformat_minor": 2
}
