{
 "cells": [
  {
   "cell_type": "code",
   "execution_count": null,
   "metadata": {},
   "outputs": [],
   "source": [
    "import os\n",
    "from PIL import Image\n",
    "\n",
    "# Directories for images and labels\n",
    "img_dir = 'train_images_noise/'\n",
    "label_dir = 'train_labels_noise/'\n",
    "\n",
    "# First, remove corrupted image files and their corresponding labels\n",
    "\n",
    "# Iterate over each file in the image directory\n",
    "for img_file in os.listdir(img_dir):\n",
    "    try:\n",
    "        # Try to open and load the image\n",
    "        img = Image.open(os.path.join(img_dir, img_file))\n",
    "        img.verify()  # verify that it is, in fact an image\n",
    "    except (IOError, SyntaxError) as e:\n",
    "        print('Bad file:', img_file)\n",
    "        # If an error is encountered, remove the image file\n",
    "        os.remove(os.path.join(img_dir, img_file))\n",
    "\n",
    "        # If a corresponding label file exists, remove it as well\n",
    "        label_file = os.path.join(\n",
    "            label_dir, img_file.rsplit('.', 1)[0] + '.txt')\n",
    "        if os.path.exists(label_file):\n",
    "            os.remove(label_file)\n",
    "\n",
    "print('Finished removing corrupted files.')\n",
    "\n",
    "# Then, remove orphaned image or label files\n",
    "\n",
    "# Get list of image and label file names without extensions\n",
    "img_files = {os.path.splitext(file)[0] for file in os.listdir(img_dir)}\n",
    "label_files = {os.path.splitext(file)[0] for file in os.listdir(label_dir)}\n",
    "\n",
    "# Find orphaned image files (files with no matching label)\n",
    "for img_file in img_files - label_files:\n",
    "    print(f\"Deleting orphaned image file: {img_file}.jpg\")\n",
    "    os.remove(os.path.join(img_dir, f\"{img_file}.jpg\"))\n",
    "\n",
    "# Find orphaned label files (files with no matching image)\n",
    "for label_file in label_files - img_files:\n",
    "    print(f\"Deleting orphaned label file: {label_file}.txt\")\n",
    "    os.remove(os.path.join(label_dir, f\"{label_file}.txt\"))\n",
    "\n",
    "print('Finished removing orphaned files.')\n"
   ]
  }
 ],
 "metadata": {
  "language_info": {
   "name": "python"
  },
  "orig_nbformat": 4
 },
 "nbformat": 4,
 "nbformat_minor": 2
}
