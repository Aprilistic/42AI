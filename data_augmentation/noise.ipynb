{
 "cells": [
  {
   "cell_type": "code",
   "execution_count": 5,
   "metadata": {},
   "outputs": [
    {
     "name": "stdout",
     "output_type": "stream",
     "text": [
      "Augmentation finished.\n"
     ]
    }
   ],
   "source": [
    "import os\n",
    "import pandas as pd\n",
    "from PIL import Image\n",
    "import shutil\n",
    "import numpy as np\n",
    "\n",
    "# Directories for images and labels\n",
    "img_dir = 'train_images_flipped_rotated/'\n",
    "label_dir = 'train_labels_flipped_rotated/'\n",
    "\n",
    "# Directories for output\n",
    "img_output_dir = 'train_images_noise/'\n",
    "label_output_dir = 'train_labels_noise/'\n",
    "\n",
    "# Make output directories if they do not exist\n",
    "os.makedirs(img_output_dir, exist_ok=True)\n",
    "os.makedirs(label_output_dir, exist_ok=True)\n",
    "\n",
    "# Function to add noise to image\n",
    "\n",
    "\n",
    "def add_noise(image):\n",
    "    image_array = np.array(image)\n",
    "    # Adjust scale to reduce noise strength\n",
    "    noise = np.random.normal(loc=0, scale=0.1, size=image_array.shape)\n",
    "    noisy_image_array = np.clip(\n",
    "        image_array + noise * 255, 0, 255).astype(np.uint8)\n",
    "    return Image.fromarray(noisy_image_array)\n",
    "\n",
    "\n",
    "# Iterate over each file in the image directory\n",
    "for img_file in os.listdir(img_dir):\n",
    "    # Open image\n",
    "    img = Image.open(os.path.join(img_dir, img_file))\n",
    "\n",
    "    # Add noise to image\n",
    "    img_noisy = add_noise(img)\n",
    "\n",
    "    # Save noisy image\n",
    "    img_noisy.save(os.path.join(\n",
    "        img_output_dir, img_file.rsplit('.', 1)[0] + '_noise.jpg'))\n",
    "\n",
    "    # Copy original image to new directory\n",
    "    shutil.copy2(os.path.join(img_dir, img_file),\n",
    "                 os.path.join(img_output_dir, img_file))\n",
    "\n",
    "    # Read corresponding label\n",
    "    label_file = os.path.join(label_dir, img_file.rsplit('.', 1)[0] + '.txt')\n",
    "\n",
    "    try:\n",
    "        # Copy original label to new directory with new name\n",
    "        shutil.copy2(label_file, os.path.join(label_output_dir,\n",
    "                     img_file.rsplit('.', 1)[0] + '_noise.txt'))\n",
    "\n",
    "        # Copy original label to new directory\n",
    "        shutil.copy2(label_file, os.path.join(\n",
    "            label_output_dir, img_file.rsplit('.', 1)[0] + '.txt'))\n",
    "    except FileNotFoundError:\n",
    "        print(f\"Label file not found for image {img_file}. Skipping.\")\n",
    "\n",
    "print('Augmentation finished.')\n"
   ]
  },
  {
   "cell_type": "code",
   "execution_count": null,
   "metadata": {},
   "outputs": [],
   "source": []
  }
 ],
 "metadata": {
  "kernelspec": {
   "display_name": "tf",
   "language": "python",
   "name": "python3"
  },
  "language_info": {
   "codemirror_mode": {
    "name": "ipython",
    "version": 3
   },
   "file_extension": ".py",
   "mimetype": "text/x-python",
   "name": "python",
   "nbconvert_exporter": "python",
   "pygments_lexer": "ipython3",
   "version": "3.10.9"
  },
  "orig_nbformat": 4
 },
 "nbformat": 4,
 "nbformat_minor": 2
}
