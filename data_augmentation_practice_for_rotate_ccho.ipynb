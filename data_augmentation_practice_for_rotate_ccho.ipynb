{
  "nbformat": 4,
  "nbformat_minor": 0,
  "metadata": {
    "colab": {
      "private_outputs": true,
      "provenance": []
    },
    "kernelspec": {
      "name": "python3",
      "display_name": "Python 3"
    },
    "language_info": {
      "name": "python"
    }
  },
  "cells": [
    {
      "cell_type": "markdown",
      "source": [
        "##0. google drive mount와 필요한 모듈 import"
      ],
      "metadata": {
        "id": "b2QyXkjB2S1m"
      }
    },
    {
      "cell_type": "code",
      "execution_count": null,
      "metadata": {
        "id": "2yQZ5tdYvh_B"
      },
      "outputs": [],
      "source": [
        "from google.colab import drive\n",
        "drive.mount('/content/drive')"
      ]
    },
    {
      "cell_type": "code",
      "source": [
        "import cv2\n",
        "import torch\n",
        "import matplotlib.pyplot as plt\n",
        "from google.colab.patches import cv2_imshow\n",
        "from PIL import Image, ImageDraw\n",
        "import numpy as np\n",
        "import os\n",
        "import random"
      ],
      "metadata": {
        "id": "gv_VkcORxOls"
      },
      "execution_count": null,
      "outputs": []
    },
    {
      "cell_type": "markdown",
      "source": [
        "##1. data augmentation"
      ],
      "metadata": {
        "id": "H4nA0SUe2b_Q"
      }
    },
    {
      "cell_type": "code",
      "source": [
        "'''\n",
        "def rotate_coordinates(coords, angle, center)\n",
        "(4, 2) 형태의 좌표가 들어오면 angle만큼 회전시켜주는 함수입니다.\n",
        "여기서 center은 (회전된) 이미지의 중심 좌표(x, y)가 들어가야 합니다.\n",
        "'''\n",
        "def rotate_coordinates(coords, angle, center):\n",
        "    # 중심 좌표를 기준으로 회전 각도로 변환\n",
        "    angle_rad = np.radians(angle)\n",
        "    cos_theta = np.cos(angle_rad)\n",
        "    sin_theta = np.sin(angle_rad)\n",
        "\n",
        "    # 회전 변환 행렬 계산\n",
        "    rotation_matrix = np.array([[cos_theta, -sin_theta],\n",
        "                                [sin_theta, cos_theta]])\n",
        "\n",
        "    # 중심 좌표를 원점으로 변환\n",
        "    centered_coords = coords - center\n",
        "\n",
        "    # 회전 변환 적용\n",
        "    rotated_coords = np.dot(centered_coords, rotation_matrix.T)\n",
        "\n",
        "    # 원점 좌표로 복원\n",
        "    restored_coords = rotated_coords + center\n",
        "\n",
        "    return restored_coords"
      ],
      "metadata": {
        "id": "ilhhEHRT_CXd"
      },
      "execution_count": null,
      "outputs": []
    },
    {
      "cell_type": "code",
      "source": [
        "'''\n",
        "def draw_rotated_bbox(image, coords, angle, color=(255, 0, 0), width=2)\n",
        "check_image 생성을 위한 시각화함수입니다. 기존 image와 bounding box가 결합된 이미지를 반환합니다.\n",
        "'''\n",
        "\n",
        "def draw_rotated_bbox(image, coords, angle, color=(255, 0, 0), width=2):\n",
        "    # PIL 이미지로 변환\n",
        "    pil_image = Image.fromarray(image)\n",
        "\n",
        "    # 이미지에 그리기 위한 Draw 객체 생성\n",
        "    draw = ImageDraw.Draw(pil_image)\n",
        "\n",
        "    for i in range(0, 4):\n",
        "        pt1 = tuple(coords[i])\n",
        "        pt2 = tuple(coords[(i + 1) % 4])\n",
        "        draw.line([pt1, pt2], fill=color, width=width)\n",
        "\n",
        "    # PIL 이미지를 다시 NumPy 배열로 변환\n",
        "    result_image = np.array(pil_image)\n",
        "\n",
        "    return result_image"
      ],
      "metadata": {
        "id": "X5JmRtwK8Oq0"
      },
      "execution_count": null,
      "outputs": []
    },
    {
      "cell_type": "code",
      "source": [
        "'''\n",
        "def rotate_image(image, angle)\n",
        "angle만큼 이미지를 회전합니다.\n",
        "'''\n",
        "\n",
        "def rotate_image(image, angle):\n",
        "    # 이미지의 높이와 너비 추출\n",
        "    height, width = image.shape[:2]\n",
        "\n",
        "    # 회전을 위한 변환 행렬 계산\n",
        "    center = (width // 2, height // 2)\n",
        "    matrix = cv2.getRotationMatrix2D(center, angle, 1.0)\n",
        "\n",
        "    # 이미지 회전\n",
        "    rotated_image = cv2.warpAffine(image, matrix, (width, height))\n",
        "\n",
        "    return rotated_image\n"
      ],
      "metadata": {
        "id": "oLfH2O3fzVJV"
      },
      "execution_count": null,
      "outputs": []
    },
    {
      "cell_type": "code",
      "source": [
        "'''\n",
        "def parse_coordinates(line)\n",
        "문자열을 공백을 기준으로 분리하여 숫자들로 이루어진 리스트를 생성합니다.\n",
        "라벨링 형식이 다르다면 해당 함수에서 line.split을 수정하면 됩니다.\n",
        "'''\n",
        "def parse_coordinates(line):\n",
        "    coords = line.split(' ')[0:8]\n",
        "    coords = [float(coord) for coord in coords]\n",
        "\n",
        "    return coords"
      ],
      "metadata": {
        "id": "MBWS4uJ2VQAz"
      },
      "execution_count": null,
      "outputs": []
    },
    {
      "cell_type": "code",
      "source": [
        "'''\n",
        "def convert_coordinates(coords_list)\n",
        "추출된 좌표를 DOTA 형식에 맞게 변환해줍니다. 형시을 변경하고 싶다면, converted_coords 를 정의하는 줄을 수정하면 됩니다.\n",
        "'''\n",
        "def convert_coordinates(coords_list):\n",
        "    converted_coords_list = []\n",
        "    for coords in coords_list:\n",
        "        x1, y1 = coords[0]\n",
        "        x2, y2 = coords[1]\n",
        "        x3, y3 = coords[2]\n",
        "        x4, y4 = coords[3]\n",
        "        classname = \"container\"\n",
        "        difficult = 0\n",
        "\n",
        "        converted_coords = f\"{x1} {y1} {x2} {y2} {x3} {y3} {x4} {y4} {classname} {difficult}\"\n",
        "        converted_coords_list.append(converted_coords)\n",
        "\n",
        "    return converted_coords_list\n"
      ],
      "metadata": {
        "id": "Oid3MylYYzf8"
      },
      "execution_count": null,
      "outputs": []
    },
    {
      "cell_type": "code",
      "source": [
        "'''\n",
        "def generate_random_values(num_images, num_random_values)\n",
        "(num_images, num_random_values) 크기로 0~360 사이 랜덤 값이 생성되는 함수입니다.\n",
        "랜덤 시드 값은 아래와 같이 고정하였습니다.\n",
        "'''\n",
        "\n",
        "def generate_random_values(num_images, num_random_values):\n",
        "    # 랜덤 시드 값을 42로 고정\n",
        "    random.seed(42)\n",
        "    np.random.seed(42)\n",
        "\n",
        "    # [num_images][num_random_values] 크기의 랜덤값 배열 생성\n",
        "    random_values_array = np.zeros((num_images, num_random_values), dtype=int)\n",
        "\n",
        "    for i in range(num_images):\n",
        "        for j in range(num_random_values):\n",
        "            random_values_array[i, j] = random.randint(0, 360)\n",
        "\n",
        "    return random_values_array"
      ],
      "metadata": {
        "id": "_TejLmSBVzg_"
      },
      "execution_count": null,
      "outputs": []
    },
    {
      "cell_type": "code",
      "source": [
        "'''\n",
        "def count_files_in_directory(directory_path)\n",
        "해당 경로에 있는 file 개수를 반환합니다.\n",
        "'''\n",
        "def count_files_in_directory(directory_path):\n",
        "    count = 0\n",
        "    for filename in os.listdir(directory_path):\n",
        "        if os.path.isfile(os.path.join(directory_path, filename)):\n",
        "            count += 1\n",
        "    return count"
      ],
      "metadata": {
        "id": "lZZKjh6sYvk9"
      },
      "execution_count": null,
      "outputs": []
    },
    {
      "cell_type": "markdown",
      "source": [
        "##2. 함수 호출\n",
        "\n",
        "본인 경로에 따라 입력 경로와 출력 경로를 적절히 수정합니다.<br>\n",
        "랜덤 각도에 따라 이미지와 각도를 회전시킵니다.<br>\n",
        "결과는 images_rotate, labels_rotate에서 확인할 수 있으며, check_images 폴더에서 시각화된 결과를 확인할 수 있습니다."
      ],
      "metadata": {
        "id": "40JCTV5m2hrn"
      }
    },
    {
      "cell_type": "code",
      "source": [
        "# 입력 경로\n",
        "image_folder_path = \"/content/drive/MyDrive/container_dataset_grained/images\"\n",
        "label_folder_path = \"/content/drive/MyDrive/container_dataset_grained/labels\"\n",
        "\n",
        "# 출력 경로\n",
        "output_image_folder_path = \"/content/drive/MyDrive/container_dataset_grained/images_rotate\"\n",
        "output_label_folder_path = \"/content/drive/MyDrive/container_dataset_grained/labels_rotate\"\n",
        "check_path = \"/content/drive/MyDrive/container_dataset_grained/check_images\"\n",
        "\n",
        "os.makedirs(output_image_folder_path, exist_ok=True)\n",
        "os.makedirs(output_label_folder_path, exist_ok=True)\n",
        "os.makedirs(check_path, exist_ok=True)\n",
        "\n",
        "\n",
        "image_files = os.listdir(image_folder_path)\n",
        "\n",
        "num_images = count_files_in_directory(image_folder_path)\n",
        "num_random_values = 10\n",
        "\n",
        "random_values = generate_random_values(num_images, num_random_values)\n",
        "j = -1\n",
        "\n",
        "# 이미지와 텍스트 파일 처리 반복문\n",
        "for image_file in image_files:\n",
        "  j += 1\n",
        "  for i in range(0, 10):\n",
        "    rotate_angle = random_values[j][i]\n",
        "    # 이미지 경로\n",
        "    image_path = os.path.join(image_folder_path, image_file)\n",
        "\n",
        "    # 이미지 읽기\n",
        "    image = cv2.imread(image_path)\n",
        "    check_image = cv2.imread(image_path)\n",
        "\n",
        "    # 이미지 회전\n",
        "    rotated_image = rotate_image(image, rotate_angle)\n",
        "    check_image = rotate_image(check_image, rotate_angle)\n",
        "\n",
        "    # 회전된 이미지 파일 이름 정의\n",
        "    rotated_image_file = os.path.splitext(image_file)[0] + \"_rotate_\" + str(i) + '.png'\n",
        "\n",
        "    # 회전된 이미지 저장\n",
        "    output_image_path = os.path.join(output_image_folder_path, rotated_image_file)\n",
        "    cv2.imwrite(output_image_path, rotated_image)\n",
        "\n",
        "    # 텍스트 파일 경로\n",
        "    label_file = os.path.splitext(image_file)[0] + \".txt\"\n",
        "    label_path = os.path.join(label_folder_path, label_file)\n",
        "\n",
        "    # 텍스트 파일 열기\n",
        "    res_coords = []\n",
        "    with open(label_path, 'r') as file:\n",
        "        for line in file:\n",
        "        # 좌표 파싱해서 numpy로 만들기\n",
        "          coords = np.array(parse_coordinates(line))\n",
        "          coords = coords.reshape(4, 2)\n",
        "          coords = rotate_coordinates(coords, -rotate_angle, center=(rotated_image.shape[1] // 2, rotated_image.shape[0] // 2))\n",
        "          res_coords.append(coords)\n",
        "          check_image = draw_rotated_bbox(check_image, coords, rotate_angle)\n",
        "    converted_coords_list = convert_coordinates(res_coords)\n",
        "    #print(converted_coords_list)\n",
        "    check_image_file = os.path.splitext(image_file)[0] + \"_rotate_\" + str(i) + \"_check\" + '.png'\n",
        "    check_image_path = os.path.join(check_path, check_image_file)\n",
        "    cv2.imwrite(check_image_path, check_image)\n",
        "    # 회전된 좌표를 파일에 저장\n",
        "    output_label_file = os.path.splitext(image_file)[0] + \"_rotate_\" + str(i) + '.txt'\n",
        "    output_label_path = os.path.join(output_label_folder_path, output_label_file)\n",
        "    with open(output_label_path, 'w') as file:\n",
        "      for converted_coords in converted_coords_list:\n",
        "        file.write(converted_coords + '\\n')\n",
        "\n",
        "  # 완료 메시지 출력\n",
        "  #print(\"이미지와 텍스트 파일 처리가 완료되었습니다.\")\n"
      ],
      "metadata": {
        "id": "yR1EMCN6Rx7D"
      },
      "execution_count": null,
      "outputs": []
    },
    {
      "cell_type": "markdown",
      "source": [
        "##3. 확인\n",
        "파일 개수를 통해 증강이 잘 이루어졌는지 확인합니다."
      ],
      "metadata": {
        "id": "VjWLpWFf3CZL"
      }
    },
    {
      "cell_type": "code",
      "source": [
        "# 적절히 증강이 이루어졌는지 확인\n",
        "file_count = count_files_in_directory(image_folder_path)\n",
        "print(\"이미지 파일 개수:\", file_count)\n",
        "file_count = count_files_in_directory(label_folder_path )\n",
        "print(\"라벨 파일 개수:\", file_count)\n",
        "\n",
        "file_count = count_files_in_directory(output_image_folder_path)\n",
        "print(\"증강 이미지 파일 개수:\", file_count)\n",
        "file_count = count_files_in_directory(output_label_folder_path)\n",
        "print(\"증강 라벨 파일 개수:\", file_count)\n",
        "file_count = count_files_in_directory(check_path)\n",
        "print(\"체크 이미지 파일 개수:\", file_count)"
      ],
      "metadata": {
        "id": "h1W5HCiGFzrT"
      },
      "execution_count": null,
      "outputs": []
    }
  ]
}